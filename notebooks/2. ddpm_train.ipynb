{
 "cells": [
  {
   "cell_type": "code",
   "execution_count": null,
   "metadata": {},
   "outputs": [],
   "source": [
    "import os\n",
    "\n",
    "# 작업 위치 설정\n",
    "WORKSPACE_DIR = '../'\n",
    "\n",
    "# data 위치 설정\n",
    "data_path = os.path.join(WORKSPACE_DIR, 'Data')\n",
    "\n",
    "from torch.utils.data import DataLoader\n",
    "import torchvision.transforms as transforms"
   ]
  },
  {
   "cell_type": "code",
   "execution_count": null,
   "metadata": {},
   "outputs": [],
   "source": [
    "# helper (디렉토리 생성 함수)\n",
    "def make_dir(dirname):\n",
    "    try:\n",
    "        if not (os.path.isdir(dirname)):\n",
    "            os.makedirs(dirname)\n",
    "    except OSError:\n",
    "        print(f\"Failed Create Your Directory : {dirname}\")"
   ]
  },
  {
   "cell_type": "code",
   "execution_count": null,
   "metadata": {},
   "outputs": [],
   "source": [
    "from denoising_diffusion_pytorch import Unet, GaussianDiffusion\n",
    "from trainer import Trainer\n",
    "\n",
    "model = Unet(\n",
    "    dim = 64,\n",
    "    dim_mults = (1, 2, 4, 8)\n",
    ")\n",
    "\n",
    "diffusion = GaussianDiffusion(\n",
    "    model,\n",
    "    image_size = 32,\n",
    "    timesteps = 1000,           # p 계산 횟수\n",
    "    sampling_timesteps = 256    # q 계산 횟수\n",
    ")\n",
    "\n",
    "dataset_name = 'cars_shapenet'"
   ]
  },
  {
   "cell_type": "code",
   "execution_count": null,
   "metadata": {},
   "outputs": [],
   "source": [
    "# model 저장 위치 설정\n",
    "res_path = os.path.join(WORKSPACE_DIR, 'diffusion_model', dataset_name, 'train', 'images')\n",
    "print(res_path)"
   ]
  },
  {
   "cell_type": "code",
   "execution_count": null,
   "metadata": {},
   "outputs": [],
   "source": [
    "make_dir(res_path)\n",
    "\n",
    "trainer = Trainer(\n",
    "    diffusion,\n",
    "    data_path + '/cars_train_test',   # 사용할 데이터 위치\n",
    "    dataset_name = dataset_name,\n",
    "    train_batch_size = 32,\n",
    "    train_lr = 8e-5,                  # 러닝 레이트\n",
    "    train_num_steps = 700000,         # 총 training steps\n",
    "    gradient_accumulate_every = 2,    # gradient accumulation steps\n",
    "    ema_decay = 0.995,                # exponential moving average decay\n",
    "    amp = True,                       # turn on mixed precision\n",
    "    calculate_fid = False,            # training 중 FID score 산출 여부\n",
    "    results_folder = res_path,\n",
    "    gpu_index = 1                     # 사용할 gpu 번호\n",
    ")"
   ]
  },
  {
   "cell_type": "code",
   "execution_count": null,
   "metadata": {
    "scrolled": true
   },
   "outputs": [],
   "source": [
    "trainer.train() #학습"
   ]
  },
  {
   "cell_type": "code",
   "execution_count": null,
   "metadata": {},
   "outputs": [],
   "source": [
    "trainer.plot_loss() # loss 출력"
   ]
  },
  {
   "cell_type": "code",
   "execution_count": null,
   "metadata": {},
   "outputs": [],
   "source": [
    "trainer.sample_images_at_milestone(700)"
   ]
  }
 ],
 "metadata": {
  "kernelspec": {
   "display_name": "Python 3 (ipykernel)",
   "language": "python",
   "name": "python3"
  },
  "language_info": {
   "codemirror_mode": {
    "name": "ipython",
    "version": 3
   },
   "file_extension": ".py",
   "mimetype": "text/x-python",
   "name": "python",
   "nbconvert_exporter": "python",
   "pygments_lexer": "ipython3",
   "version": "3.10.13"
  }
 },
 "nbformat": 4,
 "nbformat_minor": 4
}
